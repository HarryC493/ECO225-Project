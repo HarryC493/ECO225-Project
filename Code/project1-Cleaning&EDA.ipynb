{
 "cells": [
  {
   "cell_type": "markdown",
   "id": "7bb8a1c2",
   "metadata": {},
   "source": [
    "# What Makes an Airbnb House Expensive in New York?"
   ]
  },
  {
   "cell_type": "code",
   "execution_count": 120,
   "id": "4255a877",
   "metadata": {},
   "outputs": [],
   "source": [
    "# Import modules\n",
    "import pandas as pd\n",
    "from IPython.display import display \n",
    "import matplotlib.colors as mplc\n",
    "import matplotlib.patches as patches\n",
    "import matplotlib.pyplot as plt"
   ]
  },
  {
   "cell_type": "code",
   "execution_count": 121,
   "id": "541ddf50",
   "metadata": {},
   "outputs": [],
   "source": [
    "# Read dataset\n",
    "ny2019_airbnb_raw = pd.read_csv(\"AB_NYC_2019.csv\")"
   ]
  },
  {
   "cell_type": "code",
   "execution_count": 122,
   "id": "05c8b697",
   "metadata": {},
   "outputs": [
    {
     "name": "stdout",
     "output_type": "stream",
     "text": [
      "<class 'pandas.core.frame.DataFrame'>\n",
      "RangeIndex: 48895 entries, 0 to 48894\n",
      "Data columns (total 16 columns):\n",
      " #   Column                          Non-Null Count  Dtype  \n",
      "---  ------                          --------------  -----  \n",
      " 0   id                              48895 non-null  int64  \n",
      " 1   name                            48879 non-null  object \n",
      " 2   host_id                         48895 non-null  int64  \n",
      " 3   host_name                       48874 non-null  object \n",
      " 4   neighbourhood_group             48895 non-null  object \n",
      " 5   neighbourhood                   48895 non-null  object \n",
      " 6   latitude                        48895 non-null  float64\n",
      " 7   longitude                       48895 non-null  float64\n",
      " 8   room_type                       48895 non-null  object \n",
      " 9   price                           48895 non-null  int64  \n",
      " 10  minimum_nights                  48895 non-null  int64  \n",
      " 11  number_of_reviews               48895 non-null  int64  \n",
      " 12  last_review                     38843 non-null  object \n",
      " 13  reviews_per_month               38843 non-null  float64\n",
      " 14  calculated_host_listings_count  48895 non-null  int64  \n",
      " 15  availability_365                48895 non-null  int64  \n",
      "dtypes: float64(3), int64(7), object(6)\n",
      "memory usage: 6.0+ MB\n"
     ]
    }
   ],
   "source": [
    "# Display basic information about this dataset\n",
    "ny2019_airbnb_raw.info()"
   ]
  },
  {
   "cell_type": "markdown",
   "id": "ee6ac264",
   "metadata": {},
   "source": [
    "Firstly, we convert the data type of last review from an object to datetime."
   ]
  },
  {
   "cell_type": "code",
   "execution_count": 123,
   "id": "4c4353e0",
   "metadata": {},
   "outputs": [],
   "source": [
    "# Get a copy of the original dataset\n",
    "ny2019_airbnb_raw_copy = ny2019_airbnb_raw.copy()\n",
    "\n",
    "# Change the datatype of last review from object to datetime\n",
    "ny2019_airbnb_raw_copy['last_review'] =  pd.to_datetime(ny2019_airbnb_raw_copy['last_review'])"
   ]
  },
  {
   "cell_type": "code",
   "execution_count": 124,
   "id": "3c67f93d",
   "metadata": {},
   "outputs": [
    {
     "data": {
      "text/html": [
       "<div>\n",
       "<style scoped>\n",
       "    .dataframe tbody tr th:only-of-type {\n",
       "        vertical-align: middle;\n",
       "    }\n",
       "\n",
       "    .dataframe tbody tr th {\n",
       "        vertical-align: top;\n",
       "    }\n",
       "\n",
       "    .dataframe thead th {\n",
       "        text-align: right;\n",
       "    }\n",
       "</style>\n",
       "<table border=\"1\" class=\"dataframe\">\n",
       "  <thead>\n",
       "    <tr style=\"text-align: right;\">\n",
       "      <th></th>\n",
       "      <th>id</th>\n",
       "      <th>name</th>\n",
       "      <th>host_id</th>\n",
       "      <th>host_name</th>\n",
       "      <th>neighbourhood_group</th>\n",
       "      <th>neighbourhood</th>\n",
       "      <th>latitude</th>\n",
       "      <th>longitude</th>\n",
       "      <th>room_type</th>\n",
       "      <th>price</th>\n",
       "      <th>minimum_nights</th>\n",
       "      <th>number_of_reviews</th>\n",
       "      <th>last_review</th>\n",
       "      <th>reviews_per_month</th>\n",
       "      <th>calculated_host_listings_count</th>\n",
       "      <th>availability_365</th>\n",
       "    </tr>\n",
       "  </thead>\n",
       "  <tbody>\n",
       "    <tr>\n",
       "      <th>0</th>\n",
       "      <td>2539</td>\n",
       "      <td>Clean &amp; quiet apt home by the park</td>\n",
       "      <td>2787</td>\n",
       "      <td>John</td>\n",
       "      <td>Brooklyn</td>\n",
       "      <td>Kensington</td>\n",
       "      <td>40.64749</td>\n",
       "      <td>-73.97237</td>\n",
       "      <td>Private room</td>\n",
       "      <td>149</td>\n",
       "      <td>1</td>\n",
       "      <td>9</td>\n",
       "      <td>2018-10-19</td>\n",
       "      <td>0.21</td>\n",
       "      <td>6</td>\n",
       "      <td>365</td>\n",
       "    </tr>\n",
       "    <tr>\n",
       "      <th>1</th>\n",
       "      <td>2595</td>\n",
       "      <td>Skylit Midtown Castle</td>\n",
       "      <td>2845</td>\n",
       "      <td>Jennifer</td>\n",
       "      <td>Manhattan</td>\n",
       "      <td>Midtown</td>\n",
       "      <td>40.75362</td>\n",
       "      <td>-73.98377</td>\n",
       "      <td>Entire home/apt</td>\n",
       "      <td>225</td>\n",
       "      <td>1</td>\n",
       "      <td>45</td>\n",
       "      <td>2019-05-21</td>\n",
       "      <td>0.38</td>\n",
       "      <td>2</td>\n",
       "      <td>355</td>\n",
       "    </tr>\n",
       "    <tr>\n",
       "      <th>2</th>\n",
       "      <td>3647</td>\n",
       "      <td>THE VILLAGE OF HARLEM....NEW YORK !</td>\n",
       "      <td>4632</td>\n",
       "      <td>Elisabeth</td>\n",
       "      <td>Manhattan</td>\n",
       "      <td>Harlem</td>\n",
       "      <td>40.80902</td>\n",
       "      <td>-73.94190</td>\n",
       "      <td>Private room</td>\n",
       "      <td>150</td>\n",
       "      <td>3</td>\n",
       "      <td>0</td>\n",
       "      <td>NaT</td>\n",
       "      <td>NaN</td>\n",
       "      <td>1</td>\n",
       "      <td>365</td>\n",
       "    </tr>\n",
       "    <tr>\n",
       "      <th>3</th>\n",
       "      <td>3831</td>\n",
       "      <td>Cozy Entire Floor of Brownstone</td>\n",
       "      <td>4869</td>\n",
       "      <td>LisaRoxanne</td>\n",
       "      <td>Brooklyn</td>\n",
       "      <td>Clinton Hill</td>\n",
       "      <td>40.68514</td>\n",
       "      <td>-73.95976</td>\n",
       "      <td>Entire home/apt</td>\n",
       "      <td>89</td>\n",
       "      <td>1</td>\n",
       "      <td>270</td>\n",
       "      <td>2019-07-05</td>\n",
       "      <td>4.64</td>\n",
       "      <td>1</td>\n",
       "      <td>194</td>\n",
       "    </tr>\n",
       "    <tr>\n",
       "      <th>4</th>\n",
       "      <td>5022</td>\n",
       "      <td>Entire Apt: Spacious Studio/Loft by central park</td>\n",
       "      <td>7192</td>\n",
       "      <td>Laura</td>\n",
       "      <td>Manhattan</td>\n",
       "      <td>East Harlem</td>\n",
       "      <td>40.79851</td>\n",
       "      <td>-73.94399</td>\n",
       "      <td>Entire home/apt</td>\n",
       "      <td>80</td>\n",
       "      <td>10</td>\n",
       "      <td>9</td>\n",
       "      <td>2018-11-19</td>\n",
       "      <td>0.10</td>\n",
       "      <td>1</td>\n",
       "      <td>0</td>\n",
       "    </tr>\n",
       "  </tbody>\n",
       "</table>\n",
       "</div>"
      ],
      "text/plain": [
       "     id                                              name  host_id  \\\n",
       "0  2539                Clean & quiet apt home by the park     2787   \n",
       "1  2595                             Skylit Midtown Castle     2845   \n",
       "2  3647               THE VILLAGE OF HARLEM....NEW YORK !     4632   \n",
       "3  3831                   Cozy Entire Floor of Brownstone     4869   \n",
       "4  5022  Entire Apt: Spacious Studio/Loft by central park     7192   \n",
       "\n",
       "     host_name neighbourhood_group neighbourhood  latitude  longitude  \\\n",
       "0         John            Brooklyn    Kensington  40.64749  -73.97237   \n",
       "1     Jennifer           Manhattan       Midtown  40.75362  -73.98377   \n",
       "2    Elisabeth           Manhattan        Harlem  40.80902  -73.94190   \n",
       "3  LisaRoxanne            Brooklyn  Clinton Hill  40.68514  -73.95976   \n",
       "4        Laura           Manhattan   East Harlem  40.79851  -73.94399   \n",
       "\n",
       "         room_type  price  minimum_nights  number_of_reviews last_review  \\\n",
       "0     Private room    149               1                  9  2018-10-19   \n",
       "1  Entire home/apt    225               1                 45  2019-05-21   \n",
       "2     Private room    150               3                  0         NaT   \n",
       "3  Entire home/apt     89               1                270  2019-07-05   \n",
       "4  Entire home/apt     80              10                  9  2018-11-19   \n",
       "\n",
       "   reviews_per_month  calculated_host_listings_count  availability_365  \n",
       "0               0.21                               6               365  \n",
       "1               0.38                               2               355  \n",
       "2                NaN                               1               365  \n",
       "3               4.64                               1               194  \n",
       "4               0.10                               1                 0  "
      ]
     },
     "execution_count": 124,
     "metadata": {},
     "output_type": "execute_result"
    }
   ],
   "source": [
    "# Display some data to get a sense about data\n",
    "ny2019_airbnb_raw_copy.head()"
   ]
  },
  {
   "cell_type": "markdown",
   "id": "ed06da27",
   "metadata": {},
   "source": [
    "Based on the above displays of data, it would be appropriate to choose price as a response variable. Price is a continuous numerical random variable, and it might be interesting to airbnb users and house owners to get information about what makes a house more expensive for staying. The following factors may be related with housing price:\n",
    "- Neighbourhood, as some neighbourhood may be more expensive in housing than others\n",
    "- Location (latitude and longitude), yet these factors are difficult to fit and interpret in a regression model, so I would not choose them as explanatory variables in regression.\n",
    "- Room type, as some room types (full house versus single room) may be more expensive due to their size differences.\n",
    "- Minimum nights, as some houses requiring multiple nights at appointment may be more or less expensive.\n",
    "- Date of last review, as houses having more recent reviews might be more popular, so more or less expensive.\n",
    "- Reviews per month, as as houses having more reviews might be more popular, so more or less expensive.\n",
    "- Number of listings, as houses with more listings might be more popular, so more orless expensive.\n",
    "- Availability, as houses that are more available might be more prefered by users, so more expensive.\n",
    "\n",
    "Looking at the above variables, we can already detect some possible correlation among explanatory variables. We will take a more detailed look at possible collinearity in later sections.\n",
    "\n",
    "Moving on, we will take a more detailed look at the response and explanatory variables."
   ]
  },
  {
   "cell_type": "code",
   "execution_count": 125,
   "id": "bd16147f",
   "metadata": {
    "slideshow": {
     "slide_type": "subslide"
    }
   },
   "outputs": [
    {
     "data": {
      "text/html": [
       "<div>\n",
       "<style scoped>\n",
       "    .dataframe tbody tr th:only-of-type {\n",
       "        vertical-align: middle;\n",
       "    }\n",
       "\n",
       "    .dataframe tbody tr th {\n",
       "        vertical-align: top;\n",
       "    }\n",
       "\n",
       "    .dataframe thead th {\n",
       "        text-align: right;\n",
       "    }\n",
       "</style>\n",
       "<table border=\"1\" class=\"dataframe\">\n",
       "  <thead>\n",
       "    <tr style=\"text-align: right;\">\n",
       "      <th></th>\n",
       "      <th>price</th>\n",
       "      <th>minimum_nights</th>\n",
       "      <th>number_of_reviews</th>\n",
       "      <th>reviews_per_month</th>\n",
       "      <th>calculated_host_listings_count</th>\n",
       "      <th>availability_365</th>\n",
       "    </tr>\n",
       "  </thead>\n",
       "  <tbody>\n",
       "    <tr>\n",
       "      <th>count</th>\n",
       "      <td>48895.000000</td>\n",
       "      <td>48895.000000</td>\n",
       "      <td>48895.000000</td>\n",
       "      <td>38843.000000</td>\n",
       "      <td>48895.000000</td>\n",
       "      <td>48895.000000</td>\n",
       "    </tr>\n",
       "    <tr>\n",
       "      <th>mean</th>\n",
       "      <td>152.720687</td>\n",
       "      <td>7.029962</td>\n",
       "      <td>23.274466</td>\n",
       "      <td>1.373221</td>\n",
       "      <td>7.143982</td>\n",
       "      <td>112.781327</td>\n",
       "    </tr>\n",
       "    <tr>\n",
       "      <th>std</th>\n",
       "      <td>240.154170</td>\n",
       "      <td>20.510550</td>\n",
       "      <td>44.550582</td>\n",
       "      <td>1.680442</td>\n",
       "      <td>32.952519</td>\n",
       "      <td>131.622289</td>\n",
       "    </tr>\n",
       "    <tr>\n",
       "      <th>min</th>\n",
       "      <td>0.000000</td>\n",
       "      <td>1.000000</td>\n",
       "      <td>0.000000</td>\n",
       "      <td>0.010000</td>\n",
       "      <td>1.000000</td>\n",
       "      <td>0.000000</td>\n",
       "    </tr>\n",
       "    <tr>\n",
       "      <th>25%</th>\n",
       "      <td>69.000000</td>\n",
       "      <td>1.000000</td>\n",
       "      <td>1.000000</td>\n",
       "      <td>0.190000</td>\n",
       "      <td>1.000000</td>\n",
       "      <td>0.000000</td>\n",
       "    </tr>\n",
       "    <tr>\n",
       "      <th>50%</th>\n",
       "      <td>106.000000</td>\n",
       "      <td>3.000000</td>\n",
       "      <td>5.000000</td>\n",
       "      <td>0.720000</td>\n",
       "      <td>1.000000</td>\n",
       "      <td>45.000000</td>\n",
       "    </tr>\n",
       "    <tr>\n",
       "      <th>75%</th>\n",
       "      <td>175.000000</td>\n",
       "      <td>5.000000</td>\n",
       "      <td>24.000000</td>\n",
       "      <td>2.020000</td>\n",
       "      <td>2.000000</td>\n",
       "      <td>227.000000</td>\n",
       "    </tr>\n",
       "    <tr>\n",
       "      <th>max</th>\n",
       "      <td>10000.000000</td>\n",
       "      <td>1250.000000</td>\n",
       "      <td>629.000000</td>\n",
       "      <td>58.500000</td>\n",
       "      <td>327.000000</td>\n",
       "      <td>365.000000</td>\n",
       "    </tr>\n",
       "  </tbody>\n",
       "</table>\n",
       "</div>"
      ],
      "text/plain": [
       "              price  minimum_nights  number_of_reviews  reviews_per_month  \\\n",
       "count  48895.000000    48895.000000       48895.000000       38843.000000   \n",
       "mean     152.720687        7.029962          23.274466           1.373221   \n",
       "std      240.154170       20.510550          44.550582           1.680442   \n",
       "min        0.000000        1.000000           0.000000           0.010000   \n",
       "25%       69.000000        1.000000           1.000000           0.190000   \n",
       "50%      106.000000        3.000000           5.000000           0.720000   \n",
       "75%      175.000000        5.000000          24.000000           2.020000   \n",
       "max    10000.000000     1250.000000         629.000000          58.500000   \n",
       "\n",
       "       calculated_host_listings_count  availability_365  \n",
       "count                    48895.000000      48895.000000  \n",
       "mean                         7.143982        112.781327  \n",
       "std                         32.952519        131.622289  \n",
       "min                          1.000000          0.000000  \n",
       "25%                          1.000000          0.000000  \n",
       "50%                          1.000000         45.000000  \n",
       "75%                          2.000000        227.000000  \n",
       "max                        327.000000        365.000000  "
      ]
     },
     "execution_count": 125,
     "metadata": {},
     "output_type": "execute_result"
    }
   ],
   "source": [
    "ny2019_airbnb_reg = ny2019_airbnb_raw_copy.drop(\n",
    "    ['id', 'name', 'host_id', 'host_name', 'latitude', 'longitude'], axis = 1)\n",
    "\n",
    "# Brief numerical summary of data\n",
    "ny2019_airbnb_reg.describe()"
   ]
  },
  {
   "cell_type": "markdown",
   "id": "6220898f",
   "metadata": {},
   "source": [
    "The above table contains the summary statistics of the variables of interest.\n",
    "\n",
    "The first row displays the number of valid observations for each numerical variable, and we can realize that, except for the number of reviews per month, all variables have 48895 observations, which is a fairly large sample size. However, there are about 10,000 missing data in the number of reviews per month, so we may need to decide later on how to treat these missing data.\n",
    "\n",
    "The second row is the average number for each variable. Taking the response variable price as an example, the average price of staying per night in houses registered at Airbnb in 2019 in New York was 152.72 US dollars. It was interesting to realize that, the average minimum number of nights required to stay is a week, and the average available days per year is 131.6 days. This indicates that not a lot of houses allow users to stay for one or two nights, and there are lots of houses that are not available throughout the year. \n",
    "\n",
    "The third row is the standard deviation, which is a measurement of how spread out is the variable. It was interesting to note that most variables, including price, number of minimum nights, number of host listings, and availability are quite spread out, meaning that there are minorities of extreme values in the dataset. This might post threat to validity of the regression model, which we will investigate later on.\n",
    "\n",
    "The other rows display the minimum and maximum value for each variable, as well as their quantiles. These measurements again inform us about the spread of data, yet they can be more effectively communicated by using visualizations, which we will cover in the graphical data analysis part."
   ]
  },
  {
   "cell_type": "code",
   "execution_count": 126,
   "id": "df1086d1",
   "metadata": {
    "scrolled": true
   },
   "outputs": [
    {
     "data": {
      "text/plain": [
       "3"
      ]
     },
     "execution_count": 126,
     "metadata": {},
     "output_type": "execute_result"
    }
   ],
   "source": [
    "len(ny2019_airbnb_raw_copy['room_type'].unique())"
   ]
  },
  {
   "cell_type": "code",
   "execution_count": 142,
   "id": "a6fec6e0",
   "metadata": {},
   "outputs": [
    {
     "data": {
      "text/html": [
       "<div>\n",
       "<style scoped>\n",
       "    .dataframe tbody tr th:only-of-type {\n",
       "        vertical-align: middle;\n",
       "    }\n",
       "\n",
       "    .dataframe tbody tr th {\n",
       "        vertical-align: top;\n",
       "    }\n",
       "\n",
       "    .dataframe thead th {\n",
       "        text-align: right;\n",
       "    }\n",
       "</style>\n",
       "<table border=\"1\" class=\"dataframe\">\n",
       "  <thead>\n",
       "    <tr style=\"text-align: right;\">\n",
       "      <th></th>\n",
       "      <th>price</th>\n",
       "      <th>minimum_nights</th>\n",
       "      <th>number_of_reviews</th>\n",
       "      <th>reviews_per_month</th>\n",
       "      <th>calculated_host_listings_count</th>\n",
       "      <th>availability_365</th>\n",
       "      <th>count</th>\n",
       "    </tr>\n",
       "    <tr>\n",
       "      <th>room_type</th>\n",
       "      <th></th>\n",
       "      <th></th>\n",
       "      <th></th>\n",
       "      <th></th>\n",
       "      <th></th>\n",
       "      <th></th>\n",
       "      <th></th>\n",
       "    </tr>\n",
       "  </thead>\n",
       "  <tbody>\n",
       "    <tr>\n",
       "      <th>Shared room</th>\n",
       "      <td>70.127586</td>\n",
       "      <td>6.475000</td>\n",
       "      <td>16.600000</td>\n",
       "      <td>1.471726</td>\n",
       "      <td>4.662931</td>\n",
       "      <td>162.000862</td>\n",
       "      <td>1160</td>\n",
       "    </tr>\n",
       "    <tr>\n",
       "      <th>Private room</th>\n",
       "      <td>89.780973</td>\n",
       "      <td>5.377900</td>\n",
       "      <td>24.112962</td>\n",
       "      <td>1.445209</td>\n",
       "      <td>3.227717</td>\n",
       "      <td>111.203933</td>\n",
       "      <td>22326</td>\n",
       "    </tr>\n",
       "    <tr>\n",
       "      <th>Entire home/apt</th>\n",
       "      <td>211.794246</td>\n",
       "      <td>8.506907</td>\n",
       "      <td>22.842418</td>\n",
       "      <td>1.306578</td>\n",
       "      <td>10.698335</td>\n",
       "      <td>111.920304</td>\n",
       "      <td>25409</td>\n",
       "    </tr>\n",
       "  </tbody>\n",
       "</table>\n",
       "</div>"
      ],
      "text/plain": [
       "                      price  minimum_nights  number_of_reviews  \\\n",
       "room_type                                                        \n",
       "Shared room       70.127586        6.475000          16.600000   \n",
       "Private room      89.780973        5.377900          24.112962   \n",
       "Entire home/apt  211.794246        8.506907          22.842418   \n",
       "\n",
       "                 reviews_per_month  calculated_host_listings_count  \\\n",
       "room_type                                                            \n",
       "Shared room               1.471726                        4.662931   \n",
       "Private room              1.445209                        3.227717   \n",
       "Entire home/apt           1.306578                       10.698335   \n",
       "\n",
       "                 availability_365  count  \n",
       "room_type                                 \n",
       "Shared room            162.000862   1160  \n",
       "Private room           111.203933  22326  \n",
       "Entire home/apt        111.920304  25409  "
      ]
     },
     "execution_count": 142,
     "metadata": {},
     "output_type": "execute_result"
    }
   ],
   "source": [
    "ny2019_airbnb_by_room_type = ny2019_airbnb_raw_copy.copy().drop(\n",
    "    ['id', 'name', 'host_id', 'host_name', 'latitude', 'longitude',\n",
    "    'neighbourhood', 'neighbourhood_group', 'last_review'], axis = 1)\n",
    "ny2019_airbnb_group_room = ny2019_airbnb_by_room_type.groupby('room_type').mean()\n",
    "ny2019_airbnb_group_room_count = ny2019_airbnb_by_room_type.groupby('room_type')['price'].count().rename('count')\n",
    "ny2019_airbnb_group_room_full = pd.merge(ny2019_airbnb_group_room, \n",
    "                                        ny2019_airbnb_group_room_count, on = 'room_type')\n",
    "ny2019_airbnb_group_room_full = ny2019_airbnb_group_room_full.sort_values(by = 'price', ascending = True)\n",
    "ny2019_airbnb_group_room_full"
   ]
  },
  {
   "cell_type": "code",
   "execution_count": 128,
   "id": "7063a98f",
   "metadata": {
    "scrolled": true
   },
   "outputs": [
    {
     "data": {
      "text/plain": [
       "221"
      ]
     },
     "execution_count": 128,
     "metadata": {},
     "output_type": "execute_result"
    }
   ],
   "source": [
    "len(ny2019_airbnb_raw_copy['neighbourhood'].unique())"
   ]
  },
  {
   "cell_type": "code",
   "execution_count": 129,
   "id": "df884df9",
   "metadata": {},
   "outputs": [
    {
     "data": {
      "text/plain": [
       "5"
      ]
     },
     "execution_count": 129,
     "metadata": {},
     "output_type": "execute_result"
    }
   ],
   "source": [
    "len(ny2019_airbnb_raw_copy['neighbourhood_group'].unique())"
   ]
  },
  {
   "cell_type": "code",
   "execution_count": 130,
   "id": "a5bf89e9",
   "metadata": {},
   "outputs": [],
   "source": [
    "ny2019_airbnb_by_neighbourhood = ny2019_airbnb_raw_copy.copy().drop(\n",
    "    ['id', 'name', 'host_id', 'host_name', 'latitude', 'longitude',\n",
    "     'neighbourhood', 'room_type', 'last_review'], axis = 1)\n",
    "ny2019_airbnb_group_neighbor = ny2019_airbnb_by_neighbourhood.groupby('neighbourhood_group').mean()\n",
    "ny2019_airbnb_group_neighbor_count = \\\n",
    "    ny2019_airbnb_by_neighbourhood.groupby('neighbourhood_group')['price'].count().rename('count')"
   ]
  },
  {
   "cell_type": "code",
   "execution_count": 135,
   "id": "184fcf46",
   "metadata": {},
   "outputs": [
    {
     "data": {
      "text/html": [
       "<div>\n",
       "<style scoped>\n",
       "    .dataframe tbody tr th:only-of-type {\n",
       "        vertical-align: middle;\n",
       "    }\n",
       "\n",
       "    .dataframe tbody tr th {\n",
       "        vertical-align: top;\n",
       "    }\n",
       "\n",
       "    .dataframe thead th {\n",
       "        text-align: right;\n",
       "    }\n",
       "</style>\n",
       "<table border=\"1\" class=\"dataframe\">\n",
       "  <thead>\n",
       "    <tr style=\"text-align: right;\">\n",
       "      <th></th>\n",
       "      <th>price</th>\n",
       "      <th>minimum_nights</th>\n",
       "      <th>number_of_reviews</th>\n",
       "      <th>reviews_per_month</th>\n",
       "      <th>calculated_host_listings_count</th>\n",
       "      <th>availability_365</th>\n",
       "      <th>count</th>\n",
       "    </tr>\n",
       "    <tr>\n",
       "      <th>neighbourhood_group</th>\n",
       "      <th></th>\n",
       "      <th></th>\n",
       "      <th></th>\n",
       "      <th></th>\n",
       "      <th></th>\n",
       "      <th></th>\n",
       "      <th></th>\n",
       "    </tr>\n",
       "  </thead>\n",
       "  <tbody>\n",
       "    <tr>\n",
       "      <th>Bronx</th>\n",
       "      <td>87.496792</td>\n",
       "      <td>4.560953</td>\n",
       "      <td>26.004583</td>\n",
       "      <td>1.837831</td>\n",
       "      <td>2.233731</td>\n",
       "      <td>165.758937</td>\n",
       "      <td>1091</td>\n",
       "    </tr>\n",
       "    <tr>\n",
       "      <th>Queens</th>\n",
       "      <td>99.517649</td>\n",
       "      <td>5.181433</td>\n",
       "      <td>27.700318</td>\n",
       "      <td>1.941200</td>\n",
       "      <td>4.060184</td>\n",
       "      <td>144.451818</td>\n",
       "      <td>5666</td>\n",
       "    </tr>\n",
       "    <tr>\n",
       "      <th>Staten Island</th>\n",
       "      <td>114.812332</td>\n",
       "      <td>4.831099</td>\n",
       "      <td>30.941019</td>\n",
       "      <td>1.872580</td>\n",
       "      <td>2.319035</td>\n",
       "      <td>199.678284</td>\n",
       "      <td>373</td>\n",
       "    </tr>\n",
       "    <tr>\n",
       "      <th>Brooklyn</th>\n",
       "      <td>124.383207</td>\n",
       "      <td>6.056556</td>\n",
       "      <td>24.202845</td>\n",
       "      <td>1.283212</td>\n",
       "      <td>2.284371</td>\n",
       "      <td>100.232292</td>\n",
       "      <td>20104</td>\n",
       "    </tr>\n",
       "    <tr>\n",
       "      <th>Manhattan</th>\n",
       "      <td>196.875814</td>\n",
       "      <td>8.579151</td>\n",
       "      <td>20.985596</td>\n",
       "      <td>1.272131</td>\n",
       "      <td>12.791330</td>\n",
       "      <td>111.979410</td>\n",
       "      <td>21661</td>\n",
       "    </tr>\n",
       "  </tbody>\n",
       "</table>\n",
       "</div>"
      ],
      "text/plain": [
       "                          price  minimum_nights  number_of_reviews  \\\n",
       "neighbourhood_group                                                  \n",
       "Bronx                 87.496792        4.560953          26.004583   \n",
       "Queens                99.517649        5.181433          27.700318   \n",
       "Staten Island        114.812332        4.831099          30.941019   \n",
       "Brooklyn             124.383207        6.056556          24.202845   \n",
       "Manhattan            196.875814        8.579151          20.985596   \n",
       "\n",
       "                     reviews_per_month  calculated_host_listings_count  \\\n",
       "neighbourhood_group                                                      \n",
       "Bronx                         1.837831                        2.233731   \n",
       "Queens                        1.941200                        4.060184   \n",
       "Staten Island                 1.872580                        2.319035   \n",
       "Brooklyn                      1.283212                        2.284371   \n",
       "Manhattan                     1.272131                       12.791330   \n",
       "\n",
       "                     availability_365  count  \n",
       "neighbourhood_group                           \n",
       "Bronx                      165.758937   1091  \n",
       "Queens                     144.451818   5666  \n",
       "Staten Island              199.678284    373  \n",
       "Brooklyn                   100.232292  20104  \n",
       "Manhattan                  111.979410  21661  "
      ]
     },
     "execution_count": 135,
     "metadata": {},
     "output_type": "execute_result"
    }
   ],
   "source": [
    "ny2019_airbnb_group_neighbor_full = pd.merge(ny2019_airbnb_group_neighbor, \n",
    "                                             ny2019_airbnb_group_neighbor_count, on = 'neighbourhood_group')\n",
    "ny2019_airbnb_group_neighbor_full = \\\n",
    "    ny2019_airbnb_group_neighbor_full.sort_values(by='price',ascending=True)\n",
    "ny2019_airbnb_group_neighbor_full"
   ]
  },
  {
   "cell_type": "code",
   "execution_count": 132,
   "id": "f3f3e22a",
   "metadata": {
    "scrolled": true
   },
   "outputs": [
    {
     "data": {
      "text/plain": [
       "Text(0.5, 1.0, 'Distribution of Price of Airbnb per Night in New York')"
      ]
     },
     "execution_count": 132,
     "metadata": {},
     "output_type": "execute_result"
    },
    {
     "data": {
      "image/png": "[encoded data removed]",
      "text/plain": [
       "<Figure size 640x480 with 1 Axes>"
      ]
     },
     "metadata": {},
     "output_type": "display_data"
    }
   ],
   "source": [
    "# Graphical Analysis\n",
    "fig, ax = plt.subplots()\n",
    "ny2019_airbnb_reg.plot(\n",
    "    kind=\"hist\", y=\"price\", color='#458B74', bins = 20,\n",
    "    legend=False, ax=ax\n",
    ")\n",
    "bgcolor = (0.99, 0.99, 0.99)\n",
    "ax.set_facecolor(bgcolor)\n",
    "fig.set_facecolor(bgcolor)\n",
    "ax.spines['right'].set_visible(False)\n",
    "ax.spines['top'].set_visible(False)\n",
    "ax.set_title(\"Distribution of Price of Airbnb per Night in New York\")"
   ]
  },
  {
   "cell_type": "code",
   "execution_count": 143,
   "id": "6064f567",
   "metadata": {},
   "outputs": [
    {
     "data": {
      "text/plain": [
       "Text(0.5, 1.0, 'Distribution of Price by Room Type in NYC')"
      ]
     },
     "execution_count": 143,
     "metadata": {},
     "output_type": "execute_result"
    },
    {
     "data": {
      "image/png": "[encoded data removed]",
      "text/plain": [
       "<Figure size 640x480 with 1 Axes>"
      ]
     },
     "metadata": {},
     "output_type": "display_data"
    }
   ],
   "source": [
    "fig, ax = plt.subplots()\n",
    "ny2019_airbnb_group_room_full[\"price\"].plot(kind=\"barh\", ax=ax, color='#458B74')\n",
    "ax.spines['right'].set_visible(False)\n",
    "ax.spines['top'].set_visible(False)\n",
    "ax.set_title(\"Distribution of Price by Room Type in NYC\")"
   ]
  },
  {
   "cell_type": "code",
   "execution_count": 137,
   "id": "1a0d4cb1",
   "metadata": {
    "scrolled": true
   },
   "outputs": [
    {
     "data": {
      "text/plain": [
       "Text(0.5, 1.0, 'Distribution of Price by Neighbourhood in NYC')"
      ]
     },
     "execution_count": 137,
     "metadata": {},
     "output_type": "execute_result"
    },
    {
     "data": {
      "image/png": "[encoded data removed]",
      "text/plain": [
       "<Figure size 640x480 with 1 Axes>"
      ]
     },
     "metadata": {},
     "output_type": "display_data"
    }
   ],
   "source": [
    "fig, ax = plt.subplots()\n",
    "ny2019_airbnb_group_neighbor_full[\"price\"].plot(kind=\"barh\", ax=ax, color='#458B74')\n",
    "ax.spines['right'].set_visible(False)\n",
    "ax.spines['top'].set_visible(False)\n",
    "ax.set_title(\"Distribution of Price by Neighbourhood in NYC\")"
   ]
  },
  {
   "cell_type": "code",
   "execution_count": null,
   "id": "a2217785",
   "metadata": {},
   "outputs": [],
   "source": []
  }
 ],
 "metadata": {
  "kernelspec": {
   "display_name": "Python 3 (ipykernel)",
   "language": "python",
   "name": "python3"
  },
  "language_info": {
   "codemirror_mode": {
    "name": "ipython",
    "version": 3
   },
   "file_extension": ".py",
   "mimetype": "text/x-python",
   "name": "python",
   "nbconvert_exporter": "python",
   "pygments_lexer": "ipython3",
   "version": "3.10.8"
  }
 },
 "nbformat": 4,
 "nbformat_minor": 5
}
